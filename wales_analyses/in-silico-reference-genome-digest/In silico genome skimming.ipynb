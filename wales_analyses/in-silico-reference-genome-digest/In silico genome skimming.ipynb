{
 "metadata": {
  "name": "",
  "signature": "sha256:b2bb29c70171794d1daaddade5e54d3a11b948b9e0eeab9051cb55a5fa736810"
 },
 "nbformat": 3,
 "nbformat_minor": 0,
 "worksheets": [
  {
   "cells": [
    {
     "cell_type": "code",
     "collapsed": false,
     "input": [
      "from Bio import SeqIO\n",
      "from Bio.Seq import Seq\n",
      "from Bio.Alphabet import generic_dna\n",
      "from numpy import random\n",
      "from math import floor\n",
      "import warnings"
     ],
     "language": "python",
     "metadata": {},
     "outputs": [],
     "prompt_number": 43
    },
    {
     "cell_type": "code",
     "collapsed": false,
     "input": [
      "# subsampling a genome according to the exponential, with mean=~ 1kbp"
     ],
     "language": "python",
     "metadata": {},
     "outputs": [],
     "prompt_number": 39
    },
    {
     "cell_type": "code",
     "collapsed": false,
     "input": [
      "def make_subsample(genome, num_draws):\n",
      "    partial_subsample = []\n",
      "    assembly  = SeqIO.parse(genome,'fasta')\n",
      "    samples = num_draws # this is how many reads from each scaffold - nb should be a global increment but... meh\n",
      "    outfile = 'subsample_'+str(samples)+'_draws.fasta'\n",
      "    print('making '+str(samples)+' draws, output to '+outfile)\n",
      "    for scaffold in assembly:\n",
      "        #print(scaffold.id)\n",
      "        for i in range(0,samples):\n",
      "            new_length = int(random.exponential(1500))\n",
      "            start_pos = int(random.uniform(1,(len(scaffold)-new_length)))\n",
      "            some_new_seq = scaffold[start_pos:(start_pos+new_length)]\n",
      "            some_new_seq.id = some_new_seq.id + \"_sampled_\" + str(start_pos) + \"_\" + str(new_length)\n",
      "            partial_subsample.append(some_new_seq)\n",
      "\n",
      "    if(SeqIO.write(partial_subsample,outfile,'fasta')):\n",
      "        print('wrote out '+str(len(partial_subsample))+' sequences to '+outfile)\n",
      "    else:\n",
      "        warnings.warn('COULD NOT write '+str(len(partial_subsample))+' sequences to '+outfile)\n",
      "\n",
      "    del partial_subsample[:]\n",
      "    pass\n",
      "\n",
      "\n",
      "# input dir: /media/joe/BiSlDi/genomes/Arabidopsis_thaliana\n",
      "# input file: arabidopsis_thaliana_GCF_000001735.3_TAIR10_genomic.fna\n",
      "\n",
      "genome = \"/media/joe/BiSlDi/genomes/Arabidopsis_thaliana/arabidopsis_thaliana_GCF_000001735.3_TAIR10_genomic.fna\"\n",
      "\n",
      "make_subsample(genome,10)\n",
      "make_subsample(genome,100)\n",
      "make_subsample(genome,1000)\n",
      "make_subsample(genome,10000)\n",
      "make_subsample(genome,100000)\n",
      "make_subsample(genome,1000000)\n",
      "\n",
      "# should now have input files with sub/resampled reads, exponentially distributed read lengths with median 1500,\n",
      "# uniform picks from all seven A. thaliana TAIR10 chromosomes (e.g. mitochondrial and chloroplast genomes at same\n",
      "# frequency as nuclear DNA)\n",
      "# e.g. (example - random process means exact sizes will vary)\n",
      "#\n",
      "#joe-Tower:in-silico-reference-genome-digest (master*) joe$ lll *fasta\n",
      "#-rw-rw-r-- 1 joe joe  11G May 18 12:23 subsample_1000000_draws.fasta\n",
      "#-rw-rw-r-- 1 joe joe 1.1G May 18 12:19 subsample_100000_draws.fasta\n",
      "#-rw-rw-r-- 1 joe joe 109M May 18 12:18 subsample_10000_draws.fasta\n",
      "#-rw-rw-r-- 1 joe joe  11M May 18 12:18 subsample_1000_draws.fasta\n",
      "#-rw-rw-r-- 1 joe joe 1.2M May 18 12:18 subsample_100_draws.fasta\n",
      "#-rw-rw-r-- 1 joe joe 104K May 18 12:18 subsample_10_draws.fasta\n",
      "\n"
     ],
     "language": "python",
     "metadata": {},
     "outputs": [
      {
       "output_type": "stream",
       "stream": "stdout",
       "text": [
        "making 10 draws, output to subsample_10_draws.fasta\n",
        "wrote out 70 sequences to subsample_10_draws.fasta"
       ]
      },
      {
       "output_type": "stream",
       "stream": "stdout",
       "text": [
        "\n",
        "making 100 draws, output to subsample_100_draws.fasta\n",
        "wrote out 700 sequences to subsample_100_draws.fasta"
       ]
      },
      {
       "output_type": "stream",
       "stream": "stdout",
       "text": [
        "\n",
        "making 1000 draws, output to subsample_1000_draws.fasta\n",
        "wrote out 7000 sequences to subsample_1000_draws.fasta"
       ]
      },
      {
       "output_type": "stream",
       "stream": "stdout",
       "text": [
        "\n",
        "making 10000 draws, output to subsample_10000_draws.fasta\n",
        "wrote out 70000 sequences to subsample_10000_draws.fasta"
       ]
      },
      {
       "output_type": "stream",
       "stream": "stdout",
       "text": [
        "\n",
        "making 100000 draws, output to subsample_100000_draws.fasta"
       ]
      },
      {
       "output_type": "stream",
       "stream": "stdout",
       "text": [
        "\n",
        "wrote out 700000 sequences to subsample_100000_draws.fasta"
       ]
      },
      {
       "output_type": "stream",
       "stream": "stdout",
       "text": [
        "\n",
        "making 1000000 draws, output to subsample_1000000_draws.fasta"
       ]
      },
      {
       "output_type": "stream",
       "stream": "stdout",
       "text": [
        "\n",
        "wrote out 7000000 sequences to subsample_1000000_draws.fasta"
       ]
      },
      {
       "output_type": "stream",
       "stream": "stdout",
       "text": [
        "\n"
       ]
      }
     ],
     "prompt_number": 55
    }
   ],
   "metadata": {}
  }
 ]
}