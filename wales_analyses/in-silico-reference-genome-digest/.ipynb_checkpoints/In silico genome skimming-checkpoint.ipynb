{
 "metadata": {
  "name": "",
  "signature": "sha256:a072a7b37852c57801b714dfff72eb2096ee700f5c6f5ee68a95fcf24153904f"
 },
 "nbformat": 3,
 "nbformat_minor": 0,
 "worksheets": [
  {
   "cells": [
    {
     "cell_type": "code",
     "collapsed": false,
     "input": [
      "from Bio import SeqIO\n",
      "from Bio.Seq import Seq\n",
      "from Bio.Alphabet import generic_dna\n",
      "from numpy import random\n",
      "from math import floor\n",
      "import warnings"
     ],
     "language": "python",
     "metadata": {},
     "outputs": [],
     "prompt_number": 2
    },
    {
     "cell_type": "code",
     "collapsed": false,
     "input": [
      "# subsampling a genome according to the exponential, with mean=~ 1kbp"
     ],
     "language": "python",
     "metadata": {},
     "outputs": [],
     "prompt_number": 39
    },
    {
     "cell_type": "code",
     "collapsed": false,
     "input": [
      "def make_subsample(genome, label, num_draws):\n",
      "    partial_subsample = []\n",
      "    assembly  = SeqIO.parse(genome,'fasta')\n",
      "    samples = num_draws # this is how many reads from each scaffold - nb should be a global increment but... meh\n",
      "    outfile = 'subsample_'+label+'_'+str(samples).zfill(7)+'_draws.fasta'\n",
      "    print('making '+str(samples)+' draws, output to '+outfile)\n",
      "    for scaffold in assembly:\n",
      "        #print(scaffold.id)\n",
      "        for i in range(0,samples):\n",
      "            some_new_seq = False\n",
      "            nonzero_length_check = False\n",
      "            while not nonzero_length_check:\n",
      "                new_length = int(random.exponential(1500))\n",
      "                start_pos = int(random.uniform(1,(len(scaffold)-new_length)))\n",
      "                some_new_seq = scaffold[start_pos:(start_pos+new_length)]\n",
      "                some_new_seq.id = some_new_seq.id + \"_sampled_\" + str(start_pos) + \"_\" + str(new_length)\n",
      "                # WARNINGS if short (verbose)\n",
      "                #if not (len(some_new_seq) >0):\n",
      "                    #warnings.warn('short sequence: '+str(len(some_new_seq))+' id '+some_new_seq.id)\n",
      "                nonzero_length_check = (len(some_new_seq) >0)\n",
      "            partial_subsample.append(some_new_seq)\n",
      "\n",
      "    if(SeqIO.write(partial_subsample,outfile,'fasta')):\n",
      "        print('wrote out '+str(len(partial_subsample))+' sequences to '+outfile)\n",
      "    else:\n",
      "        warnings.warn('COULD NOT write '+str(len(partial_subsample))+' sequences to '+outfile)\n",
      "\n",
      "    del partial_subsample[:]\n",
      "    pass\n",
      "\n",
      "\n",
      "# input dir: /media/joe/BiSlDi/genomes/Arabidopsis_thaliana\n",
      "# input file: arabidopsis_thaliana_GCF_000001735.3_TAIR10_genomic.fna\n",
      "\n",
      "genome = \"/media/joe/BiSlDi/genomes/Arabidopsis_thaliana/arabidopsis_thaliana_GCF_000001735.3_TAIR10_genomic.fna\"\n",
      "\n",
      "make_subsample(genome,'A.thal',10,)\n",
      "make_subsample(genome,'A.thal',100)\n",
      "make_subsample(genome,'A.thal',1000)\n",
      "make_subsample(genome,'A.thal',10000)\n",
      "make_subsample(genome,'A.thal',100000)\n",
      "\n",
      "# should now have input files with sub/resampled reads, exponentially distributed read lengths with median 1500,\n",
      "# uniform picks from all seven A. thaliana TAIR10 chromosomes (e.g. mitochondrial and chloroplast genomes at same\n",
      "# frequency as nuclear DNA)\n",
      "# e.g. (example - random process means exact sizes will vary)\n",
      "#\n",
      "#joe-Tower:in-silico-reference-genome-digest (master*) joe$ lll *fasta\n",
      "#-rw-rw-r-- 1 joe joe 1.1G May 18 12:19 subsample_100000_draws.fasta\n",
      "#-rw-rw-r-- 1 joe joe 109M May 18 12:18 subsample_10000_draws.fasta\n",
      "#-rw-rw-r-- 1 joe joe  11M May 18 12:18 subsample_1000_draws.fasta\n",
      "#-rw-rw-r-- 1 joe joe 1.2M May 18 12:18 subsample_100_draws.fasta\n",
      "#-rw-rw-r-- 1 joe joe 104K May 18 12:18 subsample_10_draws.fasta\n",
      "\n"
     ],
     "language": "python",
     "metadata": {},
     "outputs": [
      {
       "output_type": "stream",
       "stream": "stdout",
       "text": [
        "making 10 draws, output to subsample_A.thal_0000010_draws.fasta\n",
        "wrote out 70 sequences to subsample_A.thal_0000010_draws.fasta"
       ]
      },
      {
       "output_type": "stream",
       "stream": "stdout",
       "text": [
        "\n",
        "making 100 draws, output to subsample_A.thal_0000100_draws.fasta\n",
        "wrote out 700 sequences to subsample_A.thal_0000100_draws.fasta"
       ]
      },
      {
       "output_type": "stream",
       "stream": "stderr",
       "text": [
        "-c:18: UserWarning: short sequence: 0 id NC_003070.9_sampled_3046698_0\n",
        "-c:18: UserWarning: short sequence: 0 id NC_003071.7_sampled_10282706_0\n"
       ]
      },
      {
       "output_type": "stream",
       "stream": "stdout",
       "text": [
        "\n",
        "making 1000 draws, output to subsample_A.thal_0001000_draws.fasta\n",
        "wrote out 7000 sequences to subsample_A.thal_0001000_draws.fasta"
       ]
      },
      {
       "output_type": "stream",
       "stream": "stderr",
       "text": [
        "-c:18: UserWarning: short sequence: 0 id NC_003076.8_sampled_15293600_0\n",
        "-c:18: UserWarning: short sequence: 0 id NC_001284.2_sampled_191214_0\n",
        "-c:18: UserWarning: short sequence: 0 id NC_003070.9_sampled_27248825_0\n"
       ]
      },
      {
       "output_type": "stream",
       "stream": "stderr",
       "text": [
        "-c:18: UserWarning: short sequence: 0 id NC_003070.9_sampled_7367419_0\n",
        "-c:18: UserWarning: short sequence: 0 id NC_003070.9_sampled_17302678_0\n",
        "-c:18: UserWarning: short sequence: 0 id NC_003070.9_sampled_21983137_0\n"
       ]
      },
      {
       "output_type": "stream",
       "stream": "stderr",
       "text": [
        "-c:18: UserWarning: short sequence: 0 id NC_003070.9_sampled_5000504_0\n",
        "-c:18: UserWarning: short sequence: 0 id NC_003071.7_sampled_17935956_0\n"
       ]
      },
      {
       "output_type": "stream",
       "stream": "stderr",
       "text": [
        "-c:18: UserWarning: short sequence: 0 id NC_003071.7_sampled_18477218_0\n",
        "-c:18: UserWarning: short sequence: 0 id NC_003071.7_sampled_12707589_0\n",
        "-c:18: UserWarning: short sequence: 0 id NC_003071.7_sampled_8223732_0\n"
       ]
      },
      {
       "output_type": "stream",
       "stream": "stderr",
       "text": [
        "-c:18: UserWarning: short sequence: 0 id NC_003071.7_sampled_14160591_0\n",
        "-c:18: UserWarning: short sequence: 0 id NC_003074.8_sampled_2985979_0\n"
       ]
      },
      {
       "output_type": "stream",
       "stream": "stderr",
       "text": [
        "-c:18: UserWarning: short sequence: 0 id NC_003074.8_sampled_10875411_0\n",
        "-c:18: UserWarning: short sequence: 0 id NC_003074.8_sampled_5360038_0\n",
        "-c:18: UserWarning: short sequence: 0 id NC_003074.8_sampled_6285773_0\n",
        "-c:18: UserWarning: short sequence: 0 id NC_003074.8_sampled_18232399_0\n",
        "-c:18: UserWarning: short sequence: 0 id NC_003075.7_sampled_2702438_0\n"
       ]
      },
      {
       "output_type": "stream",
       "stream": "stderr",
       "text": [
        "-c:18: UserWarning: short sequence: 0 id NC_003075.7_sampled_1514271_0\n",
        "-c:18: UserWarning: short sequence: 0 id NC_003075.7_sampled_11535384_0\n",
        "-c:18: UserWarning: short sequence: 0 id NC_003075.7_sampled_8526896_0\n",
        "-c:18: UserWarning: short sequence: 0 id NC_003075.7_sampled_1881719_0\n",
        "-c:18: UserWarning: short sequence: 0 id NC_003075.7_sampled_2331470_0\n"
       ]
      },
      {
       "output_type": "stream",
       "stream": "stderr",
       "text": [
        "-c:18: UserWarning: short sequence: 0 id NC_003075.7_sampled_795216_0\n",
        "-c:18: UserWarning: short sequence: 0 id NC_003076.8_sampled_10531498_0\n"
       ]
      },
      {
       "output_type": "stream",
       "stream": "stderr",
       "text": [
        "-c:18: UserWarning: short sequence: 0 id NC_003076.8_sampled_24924990_0\n",
        "-c:18: UserWarning: short sequence: 0 id NC_003076.8_sampled_15924935_0\n",
        "-c:18: UserWarning: short sequence: 0 id NC_003076.8_sampled_10648170_0\n",
        "-c:18: UserWarning: short sequence: 0 id NC_003076.8_sampled_8790914_0\n",
        "-c:18: UserWarning: short sequence: 0 id NC_003076.8_sampled_8740242_0\n"
       ]
      },
      {
       "output_type": "stream",
       "stream": "stderr",
       "text": [
        "-c:18: UserWarning: short sequence: 0 id NC_003076.8_sampled_7127925_0\n",
        "-c:18: UserWarning: short sequence: 0 id NC_003076.8_sampled_22769795_0\n",
        "-c:18: UserWarning: short sequence: 0 id NC_003076.8_sampled_22147834_0\n",
        "-c:18: UserWarning: short sequence: 0 id NC_003076.8_sampled_18800743_0\n",
        "-c:18: UserWarning: short sequence: 0 id NC_003076.8_sampled_15673774_0\n"
       ]
      },
      {
       "output_type": "stream",
       "stream": "stderr",
       "text": [
        "-c:18: UserWarning: short sequence: 0 id NC_001284.2_sampled_217236_0\n",
        "-c:18: UserWarning: short sequence: 0 id NC_001284.2_sampled_126939_0\n",
        "-c:18: UserWarning: short sequence: 0 id NC_001284.2_sampled_6307_0\n"
       ]
      },
      {
       "output_type": "stream",
       "stream": "stderr",
       "text": [
        "-c:18: UserWarning: short sequence: 0 id NC_001284.2_sampled_261446_0\n",
        "-c:18: UserWarning: short sequence: 0 id NC_001284.2_sampled_1754_0\n",
        "-c:18: UserWarning: short sequence: 0 id NC_001284.2_sampled_110958_0\n",
        "-c:18: UserWarning: short sequence: 0 id NC_000932.1_sampled_65810_0\n"
       ]
      },
      {
       "output_type": "stream",
       "stream": "stdout",
       "text": [
        "\n",
        "making 10000 draws, output to subsample_A.thal_0010000_draws.fasta\n",
        "wrote out 70000 sequences to subsample_A.thal_0010000_draws.fasta"
       ]
      },
      {
       "output_type": "stream",
       "stream": "stdout",
       "text": [
        "\n",
        "making 100000 draws, output to subsample_A.thal_0100000_draws.fasta"
       ]
      },
      {
       "output_type": "stream",
       "stream": "stderr",
       "text": [
        "-c:18: UserWarning: short sequence: 0 id NC_000932.1_sampled_3235_0\n",
        "-c:18: UserWarning: short sequence: 0 id NC_000932.1_sampled_36501_0\n",
        "-c:18: UserWarning: short sequence: 0 id NC_000932.1_sampled_45871_0\n",
        "-c:18: UserWarning: short sequence: 0 id NC_003070.9_sampled_6627669_0\n"
       ]
      },
      {
       "output_type": "stream",
       "stream": "stderr",
       "text": [
        "-c:18: UserWarning: short sequence: 0 id NC_003070.9_sampled_28456614_0\n",
        "-c:18: UserWarning: short sequence: 0 id NC_003070.9_sampled_27161893_0\n"
       ]
      },
      {
       "output_type": "stream",
       "stream": "stderr",
       "text": [
        "-c:18: UserWarning: short sequence: 0 id NC_003070.9_sampled_10970363_0\n",
        "-c:18: UserWarning: short sequence: 0 id NC_003070.9_sampled_6405711_0\n",
        "-c:18: UserWarning: short sequence: 0 id NC_003070.9_sampled_23570858_0\n",
        "-c:18: UserWarning: short sequence: 0 id NC_003070.9_sampled_24721437_0\n"
       ]
      },
      {
       "output_type": "stream",
       "stream": "stderr",
       "text": [
        "-c:18: UserWarning: short sequence: 0 id NC_003070.9_sampled_6958523_0\n",
        "-c:18: UserWarning: short sequence: 0 id NC_003070.9_sampled_25808478_0\n",
        "-c:18: UserWarning: short sequence: 0 id NC_003070.9_sampled_9071327_0\n",
        "-c:18: UserWarning: short sequence: 0 id NC_003070.9_sampled_18391888_0\n",
        "-c:18: UserWarning: short sequence: 0 id NC_003070.9_sampled_19356323_0\n"
       ]
      },
      {
       "output_type": "stream",
       "stream": "stderr",
       "text": [
        "-c:18: UserWarning: short sequence: 0 id NC_003070.9_sampled_20882470_0\n",
        "-c:18: UserWarning: short sequence: 0 id NC_003070.9_sampled_20723182_0\n",
        "-c:18: UserWarning: short sequence: 0 id NC_003070.9_sampled_17634627_0\n",
        "-c:18: UserWarning: short sequence: 0 id NC_003070.9_sampled_15471616_0\n"
       ]
      },
      {
       "output_type": "stream",
       "stream": "stderr",
       "text": [
        "-c:18: UserWarning: short sequence: 0 id NC_003070.9_sampled_27875418_0\n",
        "-c:18: UserWarning: short sequence: 0 id NC_003070.9_sampled_6325834_0\n",
        "-c:18: UserWarning: short sequence: 0 id NC_003070.9_sampled_15233519_0\n",
        "-c:18: UserWarning: short sequence: 0 id NC_003070.9_sampled_23881093_0\n",
        "-c:18: UserWarning: short sequence: 0 id NC_003070.9_sampled_10908974_0\n"
       ]
      },
      {
       "output_type": "stream",
       "stream": "stderr",
       "text": [
        "-c:18: UserWarning: short sequence: 0 id NC_003070.9_sampled_15925454_0\n",
        "-c:18: UserWarning: short sequence: 0 id NC_003070.9_sampled_18788809_0\n",
        "-c:18: UserWarning: short sequence: 0 id NC_003070.9_sampled_28249345_0\n",
        "-c:18: UserWarning: short sequence: 0 id NC_003070.9_sampled_23307477_0\n",
        "-c:18: UserWarning: short sequence: 0 id NC_003070.9_sampled_7491006_0\n",
        "-c:18: UserWarning: short sequence: 0 id NC_003070.9_sampled_4091809_0\n",
        "-c:18: UserWarning: short sequence: 0 id NC_003070.9_sampled_8313326_0\n"
       ]
      },
      {
       "output_type": "stream",
       "stream": "stderr",
       "text": [
        "-c:18: UserWarning: short sequence: 0 id NC_003070.9_sampled_14934577_0\n",
        "-c:18: UserWarning: short sequence: 0 id NC_003070.9_sampled_28889527_0\n",
        "-c:18: UserWarning: short sequence: 0 id NC_003070.9_sampled_19524417_0\n",
        "-c:18: UserWarning: short sequence: 0 id NC_003070.9_sampled_23407787_0\n"
       ]
      },
      {
       "output_type": "stream",
       "stream": "stderr",
       "text": [
        "-c:18: UserWarning: short sequence: 0 id NC_003070.9_sampled_4879964_0\n",
        "-c:18: UserWarning: short sequence: 0 id NC_003070.9_sampled_14001917_0\n",
        "-c:18: UserWarning: short sequence: 0 id NC_003070.9_sampled_25908217_0\n"
       ]
      },
      {
       "output_type": "stream",
       "stream": "stderr",
       "text": [
        "-c:18: UserWarning: short sequence: 0 id NC_003070.9_sampled_4929266_0\n",
        "-c:18: UserWarning: short sequence: 0 id NC_003070.9_sampled_275908_0\n",
        "-c:18: UserWarning: short sequence: 0 id NC_003070.9_sampled_29494446_0\n",
        "-c:18: UserWarning: short sequence: 0 id NC_003070.9_sampled_19854383_0\n",
        "-c:18: UserWarning: short sequence: 0 id NC_003070.9_sampled_2117130_0\n",
        "-c:18: UserWarning: short sequence: 0 id NC_003070.9_sampled_28183767_0\n"
       ]
      },
      {
       "output_type": "stream",
       "stream": "stderr",
       "text": [
        "-c:18: UserWarning: short sequence: 0 id NC_003070.9_sampled_17044866_0\n",
        "-c:18: UserWarning: short sequence: 0 id NC_003070.9_sampled_22038830_0\n",
        "-c:18: UserWarning: short sequence: 0 id NC_003070.9_sampled_27929067_0\n",
        "-c:18: UserWarning: short sequence: 0 id NC_003070.9_sampled_13435050_0\n"
       ]
      },
      {
       "output_type": "stream",
       "stream": "stderr",
       "text": [
        "-c:18: UserWarning: short sequence: 0 id NC_003070.9_sampled_3293243_0\n",
        "-c:18: UserWarning: short sequence: 0 id NC_003070.9_sampled_17579918_0\n",
        "-c:18: UserWarning: short sequence: 0 id NC_003070.9_sampled_13925779_0\n",
        "-c:18: UserWarning: short sequence: 0 id NC_003070.9_sampled_10316118_0\n"
       ]
      },
      {
       "output_type": "stream",
       "stream": "stderr",
       "text": [
        "-c:18: UserWarning: short sequence: 0 id NC_003070.9_sampled_1981634_0\n",
        "-c:18: UserWarning: short sequence: 0 id NC_003070.9_sampled_13824167_0\n",
        "-c:18: UserWarning: short sequence: 0 id NC_003070.9_sampled_27433686_0\n",
        "-c:18: UserWarning: short sequence: 0 id NC_003070.9_sampled_1480034_0\n"
       ]
      },
      {
       "output_type": "stream",
       "stream": "stderr",
       "text": [
        "-c:18: UserWarning: short sequence: 0 id NC_003070.9_sampled_19397240_0\n",
        "-c:18: UserWarning: short sequence: 0 id NC_003070.9_sampled_26833185_0\n",
        "-c:18: UserWarning: short sequence: 0 id NC_003070.9_sampled_29179539_0\n",
        "-c:18: UserWarning: short sequence: 0 id NC_003070.9_sampled_24185196_0\n",
        "-c:18: UserWarning: short sequence: 0 id NC_003070.9_sampled_22950158_0\n"
       ]
      },
      {
       "output_type": "stream",
       "stream": "stderr",
       "text": [
        "-c:18: UserWarning: short sequence: 0 id NC_003070.9_sampled_26710794_0\n",
        "-c:18: UserWarning: short sequence: 0 id NC_003070.9_sampled_1913600_0\n",
        "-c:18: UserWarning: short sequence: 0 id NC_003070.9_sampled_6117767_0\n",
        "-c:18: UserWarning: short sequence: 0 id NC_003070.9_sampled_12145861_0\n",
        "-c:18: UserWarning: short sequence: 0 id NC_003070.9_sampled_23294165_0\n"
       ]
      },
      {
       "output_type": "stream",
       "stream": "stderr",
       "text": [
        "-c:18: UserWarning: short sequence: 0 id NC_003070.9_sampled_10224194_0\n",
        "-c:18: UserWarning: short sequence: 0 id NC_003070.9_sampled_6702871_0\n",
        "-c:18: UserWarning: short sequence: 0 id NC_003070.9_sampled_2156062_0\n",
        "-c:18: UserWarning: short sequence: 0 id NC_003070.9_sampled_29584109_0\n",
        "-c:18: UserWarning: short sequence: 0 id NC_003070.9_sampled_27784927_0\n",
        "-c:18: UserWarning: short sequence: 0 id NC_003070.9_sampled_4629395_0\n",
        "-c:18: UserWarning: short sequence: 0 id NC_003070.9_sampled_16935134_0\n"
       ]
      },
      {
       "output_type": "stream",
       "stream": "stderr",
       "text": [
        "-c:18: UserWarning: short sequence: 0 id NC_003070.9_sampled_5408327_0\n",
        "-c:18: UserWarning: short sequence: 0 id NC_003070.9_sampled_7179886_0\n"
       ]
      },
      {
       "output_type": "stream",
       "stream": "stderr",
       "text": [
        "-c:18: UserWarning: short sequence: 0 id NC_003070.9_sampled_1133052_0\n",
        "-c:18: UserWarning: short sequence: 0 id NC_003070.9_sampled_23804510_0\n",
        "-c:18: UserWarning: short sequence: 0 id NC_003070.9_sampled_4182578_0\n",
        "-c:18: UserWarning: short sequence: 0 id NC_003070.9_sampled_60460_0\n"
       ]
      },
      {
       "output_type": "stream",
       "stream": "stderr",
       "text": [
        "-c:18: UserWarning: short sequence: 0 id NC_003070.9_sampled_10136993_0\n",
        "-c:18: UserWarning: short sequence: 0 id NC_003070.9_sampled_29068965_0\n",
        "-c:18: UserWarning: short sequence: 0 id NC_003070.9_sampled_5413394_0\n",
        "-c:18: UserWarning: short sequence: 0 id NC_003070.9_sampled_3833726_0\n",
        "-c:18: UserWarning: short sequence: 0 id NC_003070.9_sampled_28233115_0\n",
        "-c:18: UserWarning: short sequence: 0 id NC_003070.9_sampled_27188370_0\n"
       ]
      },
      {
       "output_type": "stream",
       "stream": "stderr",
       "text": [
        "-c:18: UserWarning: short sequence: 0 id NC_003071.7_sampled_18269185_0\n",
        "-c:18: UserWarning: short sequence: 0 id NC_003071.7_sampled_774489_0\n",
        "-c:18: UserWarning: short sequence: 0 id NC_003071.7_sampled_19432018_0\n",
        "-c:18: UserWarning: short sequence: 0 id NC_003071.7_sampled_16004990_0\n",
        "-c:18: UserWarning: short sequence: 0 id NC_003071.7_sampled_16082181_0\n",
        "-c:18: UserWarning: short sequence: 0 id NC_003071.7_sampled_8029759_0\n",
        "-c:18: UserWarning: short sequence: 0 id NC_003071.7_sampled_1628112_0\n"
       ]
      },
      {
       "output_type": "stream",
       "stream": "stderr",
       "text": [
        "-c:18: UserWarning: short sequence: 0 id NC_003071.7_sampled_17342031_0\n",
        "-c:18: UserWarning: short sequence: 0 id NC_003071.7_sampled_1073601_0\n",
        "-c:18: UserWarning: short sequence: 0 id NC_003071.7_sampled_19342031_0\n",
        "-c:18: UserWarning: short sequence: 0 id NC_003071.7_sampled_10775611_0\n"
       ]
      },
      {
       "output_type": "stream",
       "stream": "stderr",
       "text": [
        "-c:18: UserWarning: short sequence: 0 id NC_003071.7_sampled_8917964_0\n",
        "-c:18: UserWarning: short sequence: 0 id NC_003071.7_sampled_16980570_0\n",
        "-c:18: UserWarning: short sequence: 0 id NC_003071.7_sampled_2324587_0\n",
        "-c:18: UserWarning: short sequence: 0 id NC_003071.7_sampled_4281672_0\n",
        "-c:18: UserWarning: short sequence: 0 id NC_003071.7_sampled_9281228_0\n"
       ]
      },
      {
       "output_type": "stream",
       "stream": "stderr",
       "text": [
        "-c:18: UserWarning: short sequence: 0 id NC_003071.7_sampled_16521323_0\n",
        "-c:18: UserWarning: short sequence: 0 id NC_003071.7_sampled_9795258_0\n",
        "-c:18: UserWarning: short sequence: 0 id NC_003071.7_sampled_18400702_0\n",
        "-c:18: UserWarning: short sequence: 0 id NC_003071.7_sampled_6956746_0\n",
        "-c:18: UserWarning: short sequence: 0 id NC_003071.7_sampled_8052826_0\n",
        "-c:18: UserWarning: short sequence: 0 id NC_003071.7_sampled_4582009_0\n",
        "-c:18: UserWarning: short sequence: 0 id NC_003071.7_sampled_6520887_0\n"
       ]
      },
      {
       "output_type": "stream",
       "stream": "stderr",
       "text": [
        "-c:18: UserWarning: short sequence: 0 id NC_003071.7_sampled_18925424_0\n",
        "-c:18: UserWarning: short sequence: 0 id NC_003071.7_sampled_1482417_0\n",
        "-c:18: UserWarning: short sequence: 0 id NC_003071.7_sampled_14520686_0\n",
        "-c:18: UserWarning: short sequence: 0 id NC_003071.7_sampled_4101130_0\n",
        "-c:18: UserWarning: short sequence: 0 id NC_003071.7_sampled_10359803_0\n"
       ]
      },
      {
       "output_type": "stream",
       "stream": "stderr",
       "text": [
        "-c:18: UserWarning: short sequence: 0 id NC_003071.7_sampled_13647955_0\n",
        "-c:18: UserWarning: short sequence: 0 id NC_003071.7_sampled_19485518_0\n",
        "-c:18: UserWarning: short sequence: 0 id NC_003071.7_sampled_5573271_0\n",
        "-c:18: UserWarning: short sequence: 0 id NC_003071.7_sampled_6587098_0\n"
       ]
      },
      {
       "output_type": "stream",
       "stream": "stderr",
       "text": [
        "-c:18: UserWarning: short sequence: 0 id NC_003071.7_sampled_6256673_0\n",
        "-c:18: UserWarning: short sequence: 0 id NC_003071.7_sampled_8305724_0\n",
        "-c:18: UserWarning: short sequence: 0 id NC_003071.7_sampled_4881763_0\n",
        "-c:18: UserWarning: short sequence: 0 id NC_003071.7_sampled_15603652_0\n"
       ]
      },
      {
       "output_type": "stream",
       "stream": "stderr",
       "text": [
        "-c:18: UserWarning: short sequence: 0 id NC_003071.7_sampled_5512838_0\n",
        "-c:18: UserWarning: short sequence: 0 id NC_003071.7_sampled_15025659_0\n",
        "-c:18: UserWarning: short sequence: 0 id NC_003071.7_sampled_13755014_0\n",
        "-c:18: UserWarning: short sequence: 0 id NC_003071.7_sampled_10559525_0\n",
        "-c:18: UserWarning: short sequence: 0 id NC_003071.7_sampled_10059155_0\n"
       ]
      },
      {
       "output_type": "stream",
       "stream": "stderr",
       "text": [
        "-c:18: UserWarning: short sequence: 0 id NC_003071.7_sampled_869677_0\n",
        "-c:18: UserWarning: short sequence: 0 id NC_003071.7_sampled_6779157_0\n"
       ]
      },
      {
       "output_type": "stream",
       "stream": "stderr",
       "text": [
        "-c:18: UserWarning: short sequence: 0 id NC_003071.7_sampled_5714894_0\n",
        "-c:18: UserWarning: short sequence: 0 id NC_003071.7_sampled_16330286_0\n",
        "-c:18: UserWarning: short sequence: 0 id NC_003071.7_sampled_3891516_0\n",
        "-c:18: UserWarning: short sequence: 0 id NC_003071.7_sampled_4999302_0\n",
        "-c:18: UserWarning: short sequence: 0 id NC_003071.7_sampled_13739876_0\n"
       ]
      },
      {
       "output_type": "stream",
       "stream": "stderr",
       "text": [
        "-c:18: UserWarning: short sequence: 0 id NC_003071.7_sampled_12316479_0\n",
        "-c:18: UserWarning: short sequence: 0 id NC_003071.7_sampled_3772888_0\n",
        "-c:18: UserWarning: short sequence: 0 id NC_003071.7_sampled_18173608_0\n",
        "-c:18: UserWarning: short sequence: 0 id NC_003071.7_sampled_2442200_0\n",
        "-c:18: UserWarning: short sequence: 0 id NC_003071.7_sampled_19372642_0\n",
        "-c:18: UserWarning: short sequence: 0 id NC_003071.7_sampled_14551351_0\n"
       ]
      },
      {
       "output_type": "stream",
       "stream": "stderr",
       "text": [
        "-c:18: UserWarning: short sequence: 0 id NC_003071.7_sampled_11525153_0\n",
        "-c:18: UserWarning: short sequence: 0 id NC_003071.7_sampled_8274475_0\n",
        "-c:18: UserWarning: short sequence: 0 id NC_003071.7_sampled_15259387_0\n"
       ]
      },
      {
       "output_type": "stream",
       "stream": "stderr",
       "text": [
        "-c:18: UserWarning: short sequence: 0 id NC_003071.7_sampled_5318419_0\n",
        "-c:18: UserWarning: short sequence: 0 id NC_003071.7_sampled_10052550_0\n",
        "-c:18: UserWarning: short sequence: 0 id NC_003071.7_sampled_13241122_0\n"
       ]
      },
      {
       "output_type": "stream",
       "stream": "stderr",
       "text": [
        "-c:18: UserWarning: short sequence: 0 id NC_003071.7_sampled_6699295_0\n",
        "-c:18: UserWarning: short sequence: 0 id NC_003071.7_sampled_2169959_0\n",
        "-c:18: UserWarning: short sequence: 0 id NC_003074.8_sampled_2735012_0\n"
       ]
      },
      {
       "output_type": "stream",
       "stream": "stderr",
       "text": [
        "-c:18: UserWarning: short sequence: 0 id NC_003074.8_sampled_13974508_0\n",
        "-c:18: UserWarning: short sequence: 0 id NC_003074.8_sampled_16943055_0\n",
        "-c:18: UserWarning: short sequence: 0 id NC_003074.8_sampled_3657574_0\n",
        "-c:18: UserWarning: short sequence: 0 id NC_003074.8_sampled_22932122_0\n",
        "-c:18: UserWarning: short sequence: 0 id NC_003074.8_sampled_1865318_0\n",
        "-c:18: UserWarning: short sequence: 0 id NC_003074.8_sampled_13623048_0\n",
        "-c:18: UserWarning: short sequence: 0 id NC_003074.8_sampled_20881003_0\n"
       ]
      },
      {
       "output_type": "stream",
       "stream": "stderr",
       "text": [
        "-c:18: UserWarning: short sequence: 0 id NC_003074.8_sampled_8028077_0\n",
        "-c:18: UserWarning: short sequence: 0 id NC_003074.8_sampled_16176826_0\n"
       ]
      },
      {
       "output_type": "stream",
       "stream": "stderr",
       "text": [
        "-c:18: UserWarning: short sequence: 0 id NC_003074.8_sampled_874452_0\n",
        "-c:18: UserWarning: short sequence: 0 id NC_003074.8_sampled_3009297_0\n",
        "-c:18: UserWarning: short sequence: 0 id NC_003074.8_sampled_9098369_0\n",
        "-c:18: UserWarning: short sequence: 0 id NC_003074.8_sampled_3444987_0\n",
        "-c:18: UserWarning: short sequence: 0 id NC_003074.8_sampled_20053210_0\n"
       ]
      },
      {
       "output_type": "stream",
       "stream": "stderr",
       "text": [
        "-c:18: UserWarning: short sequence: 0 id NC_003074.8_sampled_17809922_0\n",
        "-c:18: UserWarning: short sequence: 0 id NC_003074.8_sampled_7205162_0\n",
        "-c:18: UserWarning: short sequence: 0 id NC_003074.8_sampled_21507800_0\n",
        "-c:18: UserWarning: short sequence: 0 id NC_003074.8_sampled_21524113_0\n"
       ]
      },
      {
       "output_type": "stream",
       "stream": "stderr",
       "text": [
        "-c:18: UserWarning: short sequence: 0 id NC_003074.8_sampled_15263671_0\n",
        "-c:18: UserWarning: short sequence: 0 id NC_003074.8_sampled_8553798_0\n",
        "-c:18: UserWarning: short sequence: 0 id NC_003074.8_sampled_10313517_0\n",
        "-c:18: UserWarning: short sequence: 0 id NC_003074.8_sampled_22162503_0\n"
       ]
      },
      {
       "output_type": "stream",
       "stream": "stderr",
       "text": [
        "-c:18: UserWarning: short sequence: 0 id NC_003074.8_sampled_19335902_0\n",
        "-c:18: UserWarning: short sequence: 0 id NC_003074.8_sampled_14540547_0\n",
        "-c:18: UserWarning: short sequence: 0 id NC_003074.8_sampled_2166892_0\n"
       ]
      },
      {
       "output_type": "stream",
       "stream": "stderr",
       "text": [
        "-c:18: UserWarning: short sequence: 0 id NC_003074.8_sampled_7474983_0\n",
        "-c:18: UserWarning: short sequence: 0 id NC_003074.8_sampled_9584909_0\n",
        "-c:18: UserWarning: short sequence: 0 id NC_003074.8_sampled_4197407_0\n",
        "-c:18: UserWarning: short sequence: 0 id NC_003074.8_sampled_18132206_0\n"
       ]
      },
      {
       "output_type": "stream",
       "stream": "stderr",
       "text": [
        "-c:18: UserWarning: short sequence: 0 id NC_003074.8_sampled_8545836_0\n",
        "-c:18: UserWarning: short sequence: 0 id NC_003074.8_sampled_18545171_0\n"
       ]
      },
      {
       "output_type": "stream",
       "stream": "stderr",
       "text": [
        "-c:18: UserWarning: short sequence: 0 id NC_003074.8_sampled_22267510_0\n",
        "-c:18: UserWarning: short sequence: 0 id NC_003074.8_sampled_14203288_0\n",
        "-c:18: UserWarning: short sequence: 0 id NC_003074.8_sampled_16874702_0\n"
       ]
      },
      {
       "output_type": "stream",
       "stream": "stderr",
       "text": [
        "-c:18: UserWarning: short sequence: 0 id NC_003074.8_sampled_16185807_0\n",
        "-c:18: UserWarning: short sequence: 0 id NC_003074.8_sampled_5236299_0\n",
        "-c:18: UserWarning: short sequence: 0 id NC_003074.8_sampled_11824818_0\n",
        "-c:18: UserWarning: short sequence: 0 id NC_003074.8_sampled_10628136_0\n",
        "-c:18: UserWarning: short sequence: 0 id NC_003074.8_sampled_8921940_0\n"
       ]
      },
      {
       "output_type": "stream",
       "stream": "stderr",
       "text": [
        "-c:18: UserWarning: short sequence: 0 id NC_003074.8_sampled_10949375_0\n",
        "-c:18: UserWarning: short sequence: 0 id NC_003074.8_sampled_3733981_0\n",
        "-c:18: UserWarning: short sequence: 0 id NC_003074.8_sampled_21678431_0\n"
       ]
      },
      {
       "output_type": "stream",
       "stream": "stderr",
       "text": [
        "-c:18: UserWarning: short sequence: 0 id NC_003074.8_sampled_22952586_0\n",
        "-c:18: UserWarning: short sequence: 0 id NC_003074.8_sampled_14648516_0\n",
        "-c:18: UserWarning: short sequence: 0 id NC_003074.8_sampled_14484595_0\n",
        "-c:18: UserWarning: short sequence: 0 id NC_003074.8_sampled_21672410_0\n"
       ]
      },
      {
       "output_type": "stream",
       "stream": "stderr",
       "text": [
        "-c:18: UserWarning: short sequence: 0 id NC_003074.8_sampled_13600349_0\n",
        "-c:18: UserWarning: short sequence: 0 id NC_003074.8_sampled_2343277_0\n"
       ]
      },
      {
       "output_type": "stream",
       "stream": "stderr",
       "text": [
        "-c:18: UserWarning: short sequence: 0 id NC_003074.8_sampled_9626303_0\n",
        "-c:18: UserWarning: short sequence: 0 id NC_003074.8_sampled_17313164_0\n",
        "-c:18: UserWarning: short sequence: 0 id NC_003074.8_sampled_9318545_0\n"
       ]
      },
      {
       "output_type": "stream",
       "stream": "stderr",
       "text": [
        "-c:18: UserWarning: short sequence: 0 id NC_003074.8_sampled_16024562_0\n",
        "-c:18: UserWarning: short sequence: 0 id NC_003074.8_sampled_9678711_0\n",
        "-c:18: UserWarning: short sequence: 0 id NC_003074.8_sampled_18069371_0\n",
        "-c:18: UserWarning: short sequence: 0 id NC_003074.8_sampled_2095252_0\n",
        "-c:18: UserWarning: short sequence: 0 id NC_003074.8_sampled_6085327_0\n",
        "-c:18: UserWarning: short sequence: 0 id NC_003075.7_sampled_6027571_0\n"
       ]
      },
      {
       "output_type": "stream",
       "stream": "stderr",
       "text": [
        "-c:18: UserWarning: short sequence: 0 id NC_003075.7_sampled_10824452_0\n",
        "-c:18: UserWarning: short sequence: 0 id NC_003075.7_sampled_10248806_0\n",
        "-c:18: UserWarning: short sequence: 0 id NC_003075.7_sampled_16925499_0\n",
        "-c:18: UserWarning: short sequence: 0 id NC_003075.7_sampled_3701228_0\n",
        "-c:18: UserWarning: short sequence: 0 id NC_003075.7_sampled_6308180_0\n"
       ]
      },
      {
       "output_type": "stream",
       "stream": "stderr",
       "text": [
        "-c:18: UserWarning: short sequence: 0 id NC_003075.7_sampled_10382839_0\n",
        "-c:18: UserWarning: short sequence: 0 id NC_003075.7_sampled_9942166_0\n",
        "-c:18: UserWarning: short sequence: 0 id NC_003075.7_sampled_13830590_0\n",
        "-c:18: UserWarning: short sequence: 0 id NC_003075.7_sampled_6184681_0\n",
        "-c:18: UserWarning: short sequence: 0 id NC_003075.7_sampled_992515_0\n",
        "-c:18: UserWarning: short sequence: 0 id NC_003075.7_sampled_7085230_0\n"
       ]
      },
      {
       "output_type": "stream",
       "stream": "stderr",
       "text": [
        "-c:18: UserWarning: short sequence: 0 id NC_003075.7_sampled_8670423_0\n",
        "-c:18: UserWarning: short sequence: 0 id NC_003075.7_sampled_18571139_0\n"
       ]
      },
      {
       "output_type": "stream",
       "stream": "stderr",
       "text": [
        "-c:18: UserWarning: short sequence: 0 id NC_003075.7_sampled_9031878_0\n",
        "-c:18: UserWarning: short sequence: 0 id NC_003075.7_sampled_13327241_0\n"
       ]
      },
      {
       "output_type": "stream",
       "stream": "stderr",
       "text": [
        "-c:18: UserWarning: short sequence: 0 id NC_003075.7_sampled_2891742_0\n",
        "-c:18: UserWarning: short sequence: 0 id NC_003075.7_sampled_13543911_0\n",
        "-c:18: UserWarning: short sequence: 0 id NC_003075.7_sampled_3661592_0\n",
        "-c:18: UserWarning: short sequence: 0 id NC_003075.7_sampled_18037621_0\n",
        "-c:18: UserWarning: short sequence: 0 id NC_003075.7_sampled_11475781_0\n"
       ]
      },
      {
       "output_type": "stream",
       "stream": "stderr",
       "text": [
        "-c:18: UserWarning: short sequence: 0 id NC_003075.7_sampled_5814701_0\n",
        "-c:18: UserWarning: short sequence: 0 id NC_003075.7_sampled_13240445_0\n",
        "-c:18: UserWarning: short sequence: 0 id NC_003075.7_sampled_1572001_0\n"
       ]
      },
      {
       "output_type": "stream",
       "stream": "stderr",
       "text": [
        "-c:18: UserWarning: short sequence: 0 id NC_003075.7_sampled_1558166_0\n",
        "-c:18: UserWarning: short sequence: 0 id NC_003075.7_sampled_2091741_0\n",
        "-c:18: UserWarning: short sequence: 0 id NC_003075.7_sampled_5516005_0\n",
        "-c:18: UserWarning: short sequence: 0 id NC_003075.7_sampled_18474979_0\n",
        "-c:18: UserWarning: short sequence: 0 id NC_003075.7_sampled_10099984_0\n"
       ]
      },
      {
       "output_type": "stream",
       "stream": "stderr",
       "text": [
        "-c:18: UserWarning: short sequence: 0 id NC_003075.7_sampled_4119020_0\n",
        "-c:18: UserWarning: short sequence: 0 id NC_003075.7_sampled_6764205_0\n",
        "-c:18: UserWarning: short sequence: 0 id NC_003075.7_sampled_15219327_0\n"
       ]
      },
      {
       "output_type": "stream",
       "stream": "stderr",
       "text": [
        "-c:18: UserWarning: short sequence: 0 id NC_003075.7_sampled_4292211_0\n",
        "-c:18: UserWarning: short sequence: 0 id NC_003075.7_sampled_14669828_0\n",
        "-c:18: UserWarning: short sequence: 0 id NC_003075.7_sampled_9960913_0\n",
        "-c:18: UserWarning: short sequence: 0 id NC_003075.7_sampled_15606883_0\n"
       ]
      },
      {
       "output_type": "stream",
       "stream": "stderr",
       "text": [
        "-c:18: UserWarning: short sequence: 0 id NC_003075.7_sampled_12046929_0\n",
        "-c:18: UserWarning: short sequence: 0 id NC_003075.7_sampled_16377024_0\n",
        "-c:18: UserWarning: short sequence: 0 id NC_003075.7_sampled_13951203_0\n"
       ]
      },
      {
       "output_type": "stream",
       "stream": "stderr",
       "text": [
        "-c:18: UserWarning: short sequence: 0 id NC_003075.7_sampled_7415618_0\n",
        "-c:18: UserWarning: short sequence: 0 id NC_003075.7_sampled_6178178_0\n"
       ]
      },
      {
       "output_type": "stream",
       "stream": "stderr",
       "text": [
        "-c:18: UserWarning: short sequence: 0 id NC_003075.7_sampled_8621515_0\n",
        "-c:18: UserWarning: short sequence: 0 id NC_003075.7_sampled_12636677_0\n",
        "-c:18: UserWarning: short sequence: 0 id NC_003075.7_sampled_13317349_0\n",
        "-c:18: UserWarning: short sequence: 0 id NC_003075.7_sampled_16627145_0\n",
        "-c:18: UserWarning: short sequence: 0 id NC_003075.7_sampled_11020439_0\n",
        "-c:18: UserWarning: short sequence: 0 id NC_003075.7_sampled_13203806_0\n"
       ]
      },
      {
       "output_type": "stream",
       "stream": "stderr",
       "text": [
        "-c:18: UserWarning: short sequence: 0 id NC_003075.7_sampled_17407598_0\n",
        "-c:18: UserWarning: short sequence: 0 id NC_003075.7_sampled_4358043_0\n",
        "-c:18: UserWarning: short sequence: 0 id NC_003075.7_sampled_15379060_0\n",
        "-c:18: UserWarning: short sequence: 0 id NC_003075.7_sampled_4268635_0\n"
       ]
      },
      {
       "output_type": "stream",
       "stream": "stderr",
       "text": [
        "-c:18: UserWarning: short sequence: 0 id NC_003075.7_sampled_2827620_0\n",
        "-c:18: UserWarning: short sequence: 0 id NC_003075.7_sampled_10012087_0\n",
        "-c:18: UserWarning: short sequence: 0 id NC_003076.8_sampled_14373991_0\n"
       ]
      },
      {
       "output_type": "stream",
       "stream": "stderr",
       "text": [
        "-c:18: UserWarning: short sequence: 0 id NC_003076.8_sampled_6562757_0\n",
        "-c:18: UserWarning: short sequence: 0 id NC_003076.8_sampled_10137801_0\n",
        "-c:18: UserWarning: short sequence: 0 id NC_003076.8_sampled_788408_0\n",
        "-c:18: UserWarning: short sequence: 0 id NC_003076.8_sampled_19671686_0\n",
        "-c:18: UserWarning: short sequence: 0 id NC_003076.8_sampled_7322402_0\n"
       ]
      },
      {
       "output_type": "stream",
       "stream": "stderr",
       "text": [
        "-c:18: UserWarning: short sequence: 0 id NC_003076.8_sampled_15522484_0\n",
        "-c:18: UserWarning: short sequence: 0 id NC_003076.8_sampled_20171182_0\n",
        "-c:18: UserWarning: short sequence: 0 id NC_003076.8_sampled_9201371_0\n",
        "-c:18: UserWarning: short sequence: 0 id NC_003076.8_sampled_1784853_0\n",
        "-c:18: UserWarning: short sequence: 0 id NC_003076.8_sampled_13747365_0\n",
        "-c:18: UserWarning: short sequence: 0 id NC_003076.8_sampled_6968349_0\n"
       ]
      },
      {
       "output_type": "stream",
       "stream": "stderr",
       "text": [
        "-c:18: UserWarning: short sequence: 0 id NC_003076.8_sampled_10179944_0\n",
        "-c:18: UserWarning: short sequence: 0 id NC_003076.8_sampled_24183518_0\n",
        "-c:18: UserWarning: short sequence: 0 id NC_003076.8_sampled_20418085_0\n",
        "-c:18: UserWarning: short sequence: 0 id NC_003076.8_sampled_22706613_0\n"
       ]
      },
      {
       "output_type": "stream",
       "stream": "stderr",
       "text": [
        "-c:18: UserWarning: short sequence: 0 id NC_003076.8_sampled_24674874_0\n",
        "-c:18: UserWarning: short sequence: 0 id NC_003076.8_sampled_1522997_0\n"
       ]
      },
      {
       "output_type": "stream",
       "stream": "stderr",
       "text": [
        "-c:18: UserWarning: short sequence: 0 id NC_003076.8_sampled_5566961_0\n",
        "-c:18: UserWarning: short sequence: 0 id NC_003076.8_sampled_14600556_0\n",
        "-c:18: UserWarning: short sequence: 0 id NC_003076.8_sampled_3274321_0\n",
        "-c:18: UserWarning: short sequence: 0 id NC_003076.8_sampled_23245335_0\n"
       ]
      },
      {
       "output_type": "stream",
       "stream": "stderr",
       "text": [
        "-c:18: UserWarning: short sequence: 0 id NC_003076.8_sampled_22715748_0\n",
        "-c:18: UserWarning: short sequence: 0 id NC_003076.8_sampled_26043287_0\n",
        "-c:18: UserWarning: short sequence: 0 id NC_003076.8_sampled_11148649_0\n",
        "-c:18: UserWarning: short sequence: 0 id NC_003076.8_sampled_12700660_0\n"
       ]
      },
      {
       "output_type": "stream",
       "stream": "stderr",
       "text": [
        "-c:18: UserWarning: short sequence: 0 id NC_003076.8_sampled_1490161_0\n",
        "-c:18: UserWarning: short sequence: 0 id NC_003076.8_sampled_1107684_0\n",
        "-c:18: UserWarning: short sequence: 0 id NC_003076.8_sampled_17784970_0\n"
       ]
      },
      {
       "output_type": "stream",
       "stream": "stderr",
       "text": [
        "-c:18: UserWarning: short sequence: 0 id NC_003076.8_sampled_3918448_0\n",
        "-c:18: UserWarning: short sequence: 0 id NC_003076.8_sampled_1281961_0\n",
        "-c:18: UserWarning: short sequence: 0 id NC_003076.8_sampled_1548563_0\n"
       ]
      },
      {
       "output_type": "stream",
       "stream": "stderr",
       "text": [
        "-c:18: UserWarning: short sequence: 0 id NC_003076.8_sampled_25302914_0\n",
        "-c:18: UserWarning: short sequence: 0 id NC_003076.8_sampled_1402632_0\n",
        "-c:18: UserWarning: short sequence: 0 id NC_003076.8_sampled_5688874_0\n"
       ]
      },
      {
       "output_type": "stream",
       "stream": "stderr",
       "text": [
        "-c:18: UserWarning: short sequence: 0 id NC_003076.8_sampled_3843153_0\n",
        "-c:18: UserWarning: short sequence: 0 id NC_003076.8_sampled_22339176_0\n",
        "-c:18: UserWarning: short sequence: 0 id NC_003076.8_sampled_24483501_0\n",
        "-c:18: UserWarning: short sequence: 0 id NC_003076.8_sampled_25999943_0\n"
       ]
      },
      {
       "output_type": "stream",
       "stream": "stderr",
       "text": [
        "-c:18: UserWarning: short sequence: 0 id NC_003076.8_sampled_8787599_0\n",
        "-c:18: UserWarning: short sequence: 0 id NC_003076.8_sampled_15990797_0\n"
       ]
      },
      {
       "output_type": "stream",
       "stream": "stderr",
       "text": [
        "-c:18: UserWarning: short sequence: 0 id NC_003076.8_sampled_16475918_0\n",
        "-c:18: UserWarning: short sequence: 0 id NC_003076.8_sampled_11828030_0\n",
        "-c:18: UserWarning: short sequence: 0 id NC_003076.8_sampled_12575353_0\n",
        "-c:18: UserWarning: short sequence: 0 id NC_003076.8_sampled_21486821_0\n",
        "-c:18: UserWarning: short sequence: 0 id NC_003076.8_sampled_20235942_0\n"
       ]
      },
      {
       "output_type": "stream",
       "stream": "stderr",
       "text": [
        "-c:18: UserWarning: short sequence: 0 id NC_003076.8_sampled_23057835_0\n",
        "-c:18: UserWarning: short sequence: 0 id NC_003076.8_sampled_1792285_0\n",
        "-c:18: UserWarning: short sequence: 0 id NC_003076.8_sampled_26222449_0\n",
        "-c:18: UserWarning: short sequence: 0 id NC_003076.8_sampled_2763450_0\n",
        "-c:18: UserWarning: short sequence: 0 id NC_003076.8_sampled_14449222_0\n",
        "-c:18: UserWarning: short sequence: 0 id NC_003076.8_sampled_15189116_0\n",
        "-c:18: UserWarning: short sequence: 0 id NC_003076.8_sampled_14166781_0\n"
       ]
      },
      {
       "output_type": "stream",
       "stream": "stderr",
       "text": [
        "-c:18: UserWarning: short sequence: 0 id NC_003076.8_sampled_5753371_0\n",
        "-c:18: UserWarning: short sequence: 0 id NC_003076.8_sampled_5862347_0\n",
        "-c:18: UserWarning: short sequence: 0 id NC_003076.8_sampled_374129_0\n",
        "-c:18: UserWarning: short sequence: 0 id NC_003076.8_sampled_9041911_0\n",
        "-c:18: UserWarning: short sequence: 0 id NC_003076.8_sampled_25601101_0\n"
       ]
      },
      {
       "output_type": "stream",
       "stream": "stderr",
       "text": [
        "-c:18: UserWarning: short sequence: 0 id NC_003076.8_sampled_2481721_0\n",
        "-c:18: UserWarning: short sequence: 0 id NC_003076.8_sampled_6797282_0\n",
        "-c:18: UserWarning: short sequence: 0 id NC_003076.8_sampled_515055_0\n",
        "-c:18: UserWarning: short sequence: 0 id NC_003076.8_sampled_15495792_0\n",
        "-c:18: UserWarning: short sequence: 0 id NC_003076.8_sampled_5339190_0\n",
        "-c:18: UserWarning: short sequence: 0 id NC_003076.8_sampled_2742055_0\n"
       ]
      },
      {
       "output_type": "stream",
       "stream": "stderr",
       "text": [
        "-c:18: UserWarning: short sequence: 0 id NC_003076.8_sampled_23698552_0\n",
        "-c:18: UserWarning: short sequence: 0 id NC_003076.8_sampled_14087825_0\n",
        "-c:18: UserWarning: short sequence: 0 id NC_003076.8_sampled_14514255_0\n",
        "-c:18: UserWarning: short sequence: 0 id NC_003076.8_sampled_16077537_0\n",
        "-c:18: UserWarning: short sequence: 0 id NC_003076.8_sampled_17540684_0\n"
       ]
      },
      {
       "output_type": "stream",
       "stream": "stderr",
       "text": [
        "-c:18: UserWarning: short sequence: 0 id NC_003076.8_sampled_25111264_0\n",
        "-c:18: UserWarning: short sequence: 0 id NC_003076.8_sampled_16148178_0\n",
        "-c:18: UserWarning: short sequence: 0 id NC_003076.8_sampled_1744989_0\n",
        "-c:18: UserWarning: short sequence: 0 id NC_003076.8_sampled_23581136_0\n",
        "-c:18: UserWarning: short sequence: 0 id NC_003076.8_sampled_10508104_0\n"
       ]
      },
      {
       "output_type": "stream",
       "stream": "stderr",
       "text": [
        "-c:18: UserWarning: short sequence: 0 id NC_003076.8_sampled_25266610_0\n",
        "-c:18: UserWarning: short sequence: 0 id NC_003076.8_sampled_17683210_0\n",
        "-c:18: UserWarning: short sequence: 0 id NC_003076.8_sampled_26474359_0\n",
        "-c:18: UserWarning: short sequence: 0 id NC_003076.8_sampled_5204908_0\n"
       ]
      },
      {
       "output_type": "stream",
       "stream": "stderr",
       "text": [
        "-c:18: UserWarning: short sequence: 0 id NC_003076.8_sampled_7815136_0\n",
        "-c:18: UserWarning: short sequence: 0 id NC_001284.2_sampled_53330_0\n"
       ]
      },
      {
       "output_type": "stream",
       "stream": "stderr",
       "text": [
        "-c:18: UserWarning: short sequence: 0 id NC_001284.2_sampled_244981_0\n",
        "-c:18: UserWarning: short sequence: 0 id NC_001284.2_sampled_173466_0\n",
        "-c:18: UserWarning: short sequence: 0 id NC_001284.2_sampled_1822_0\n",
        "-c:18: UserWarning: short sequence: 0 id NC_001284.2_sampled_288096_0\n"
       ]
      },
      {
       "output_type": "stream",
       "stream": "stderr",
       "text": [
        "-c:18: UserWarning: short sequence: 0 id NC_001284.2_sampled_182337_0\n",
        "-c:18: UserWarning: short sequence: 0 id NC_001284.2_sampled_178431_0\n",
        "-c:18: UserWarning: short sequence: 0 id NC_001284.2_sampled_337068_0\n",
        "-c:18: UserWarning: short sequence: 0 id NC_001284.2_sampled_146585_0\n",
        "-c:18: UserWarning: short sequence: 0 id NC_001284.2_sampled_112628_0\n"
       ]
      },
      {
       "output_type": "stream",
       "stream": "stderr",
       "text": [
        "-c:18: UserWarning: short sequence: 0 id NC_001284.2_sampled_122165_0\n",
        "-c:18: UserWarning: short sequence: 0 id NC_001284.2_sampled_169139_0\n",
        "-c:18: UserWarning: short sequence: 0 id NC_001284.2_sampled_348941_0\n",
        "-c:18: UserWarning: short sequence: 0 id NC_001284.2_sampled_215150_0\n",
        "-c:18: UserWarning: short sequence: 0 id NC_001284.2_sampled_251716_0\n"
       ]
      },
      {
       "output_type": "stream",
       "stream": "stderr",
       "text": [
        "-c:18: UserWarning: short sequence: 0 id NC_001284.2_sampled_229373_0\n",
        "-c:18: UserWarning: short sequence: 0 id NC_001284.2_sampled_269625_0\n",
        "-c:18: UserWarning: short sequence: 0 id NC_001284.2_sampled_179999_0\n"
       ]
      },
      {
       "output_type": "stream",
       "stream": "stderr",
       "text": [
        "-c:18: UserWarning: short sequence: 0 id NC_001284.2_sampled_242784_0\n",
        "-c:18: UserWarning: short sequence: 0 id NC_001284.2_sampled_313285_0\n"
       ]
      },
      {
       "output_type": "stream",
       "stream": "stderr",
       "text": [
        "-c:18: UserWarning: short sequence: 0 id NC_001284.2_sampled_75374_0\n",
        "-c:18: UserWarning: short sequence: 0 id NC_001284.2_sampled_248473_0\n",
        "-c:18: UserWarning: short sequence: 0 id NC_001284.2_sampled_229246_0\n",
        "-c:18: UserWarning: short sequence: 0 id NC_001284.2_sampled_66823_0\n"
       ]
      },
      {
       "output_type": "stream",
       "stream": "stderr",
       "text": [
        "-c:18: UserWarning: short sequence: 0 id NC_001284.2_sampled_301155_0\n",
        "-c:18: UserWarning: short sequence: 0 id NC_001284.2_sampled_62753_0\n",
        "-c:18: UserWarning: short sequence: 0 id NC_001284.2_sampled_81767_0\n",
        "-c:18: UserWarning: short sequence: 0 id NC_001284.2_sampled_230400_0\n",
        "-c:18: UserWarning: short sequence: 0 id NC_001284.2_sampled_246654_0\n",
        "-c:18: UserWarning: short sequence: 0 id NC_001284.2_sampled_174838_0\n",
        "-c:18: UserWarning: short sequence: 0 id NC_001284.2_sampled_118221_0\n",
        "-c:18: UserWarning: short sequence: 0 id NC_001284.2_sampled_58876_0\n"
       ]
      },
      {
       "output_type": "stream",
       "stream": "stderr",
       "text": [
        "-c:18: UserWarning: short sequence: 0 id NC_001284.2_sampled_2681_0\n",
        "-c:18: UserWarning: short sequence: 0 id NC_001284.2_sampled_105286_0\n",
        "-c:18: UserWarning: short sequence: 0 id NC_001284.2_sampled_272420_0\n",
        "-c:18: UserWarning: short sequence: 0 id NC_001284.2_sampled_224779_0\n",
        "-c:18: UserWarning: short sequence: 0 id NC_001284.2_sampled_289955_0\n"
       ]
      },
      {
       "output_type": "stream",
       "stream": "stderr",
       "text": [
        "-c:18: UserWarning: short sequence: 0 id NC_001284.2_sampled_195302_0\n",
        "-c:18: UserWarning: short sequence: 0 id NC_001284.2_sampled_90176_0\n",
        "-c:18: UserWarning: short sequence: 0 id NC_001284.2_sampled_85844_0\n"
       ]
      },
      {
       "output_type": "stream",
       "stream": "stderr",
       "text": [
        "-c:18: UserWarning: short sequence: 0 id NC_001284.2_sampled_301343_0\n",
        "-c:18: UserWarning: short sequence: 0 id NC_001284.2_sampled_208792_0\n",
        "-c:18: UserWarning: short sequence: 0 id NC_001284.2_sampled_271296_0\n"
       ]
      },
      {
       "output_type": "stream",
       "stream": "stderr",
       "text": [
        "-c:18: UserWarning: short sequence: 0 id NC_001284.2_sampled_342605_0\n",
        "-c:18: UserWarning: short sequence: 0 id NC_001284.2_sampled_237231_0\n"
       ]
      },
      {
       "output_type": "stream",
       "stream": "stderr",
       "text": [
        "-c:18: UserWarning: short sequence: 0 id NC_001284.2_sampled_5553_0\n",
        "-c:18: UserWarning: short sequence: 0 id NC_001284.2_sampled_233529_0\n",
        "-c:18: UserWarning: short sequence: 0 id NC_001284.2_sampled_41144_0\n",
        "-c:18: UserWarning: short sequence: 0 id NC_001284.2_sampled_166545_0\n"
       ]
      },
      {
       "output_type": "stream",
       "stream": "stderr",
       "text": [
        "-c:18: UserWarning: short sequence: 0 id NC_001284.2_sampled_28476_0\n",
        "-c:18: UserWarning: short sequence: 0 id NC_001284.2_sampled_302125_0\n",
        "-c:18: UserWarning: short sequence: 0 id NC_001284.2_sampled_152029_0\n",
        "-c:18: UserWarning: short sequence: 0 id NC_001284.2_sampled_165078_0\n",
        "-c:18: UserWarning: short sequence: 0 id NC_001284.2_sampled_265022_0\n"
       ]
      },
      {
       "output_type": "stream",
       "stream": "stderr",
       "text": [
        "-c:18: UserWarning: short sequence: 0 id NC_001284.2_sampled_52088_0\n",
        "-c:18: UserWarning: short sequence: 0 id NC_001284.2_sampled_161780_0\n",
        "-c:18: UserWarning: short sequence: 0 id NC_001284.2_sampled_117138_0\n",
        "-c:18: UserWarning: short sequence: 0 id NC_001284.2_sampled_199427_0\n",
        "-c:18: UserWarning: short sequence: 0 id NC_001284.2_sampled_193610_0\n",
        "-c:18: UserWarning: short sequence: 0 id NC_001284.2_sampled_344034_0\n",
        "-c:18: UserWarning: short sequence: 0 id NC_001284.2_sampled_95729_0\n"
       ]
      },
      {
       "output_type": "stream",
       "stream": "stderr",
       "text": [
        "-c:18: UserWarning: short sequence: 0 id NC_001284.2_sampled_43043_0\n",
        "-c:18: UserWarning: short sequence: 0 id NC_001284.2_sampled_161960_0\n",
        "-c:18: UserWarning: short sequence: 0 id NC_001284.2_sampled_58522_0\n",
        "-c:18: UserWarning: short sequence: 0 id NC_001284.2_sampled_122463_0\n"
       ]
      },
      {
       "output_type": "stream",
       "stream": "stderr",
       "text": [
        "-c:18: UserWarning: short sequence: 0 id NC_001284.2_sampled_44112_0\n",
        "-c:18: UserWarning: short sequence: 0 id NC_001284.2_sampled_51763_0\n",
        "-c:18: UserWarning: short sequence: 0 id NC_000932.1_sampled_3953_0\n",
        "-c:18: UserWarning: short sequence: 0 id NC_000932.1_sampled_59601_0\n"
       ]
      },
      {
       "output_type": "stream",
       "stream": "stderr",
       "text": [
        "-c:18: UserWarning: short sequence: 0 id NC_000932.1_sampled_111864_0\n",
        "-c:18: UserWarning: short sequence: 0 id NC_000932.1_sampled_9062_0\n",
        "-c:18: UserWarning: short sequence: 0 id NC_000932.1_sampled_71288_0\n",
        "-c:18: UserWarning: short sequence: 0 id NC_000932.1_sampled_3851_0\n",
        "-c:18: UserWarning: short sequence: 0 id NC_000932.1_sampled_33049_0\n"
       ]
      },
      {
       "output_type": "stream",
       "stream": "stderr",
       "text": [
        "-c:18: UserWarning: short sequence: 0 id NC_000932.1_sampled_86400_0\n",
        "-c:18: UserWarning: short sequence: 0 id NC_000932.1_sampled_74353_0\n",
        "-c:18: UserWarning: short sequence: 0 id NC_000932.1_sampled_57882_0\n",
        "-c:18: UserWarning: short sequence: 0 id NC_000932.1_sampled_91248_0\n",
        "-c:18: UserWarning: short sequence: 0 id NC_000932.1_sampled_109251_0\n"
       ]
      },
      {
       "output_type": "stream",
       "stream": "stderr",
       "text": [
        "-c:18: UserWarning: short sequence: 0 id NC_000932.1_sampled_71502_0\n",
        "-c:18: UserWarning: short sequence: 0 id NC_000932.1_sampled_29560_0\n",
        "-c:18: UserWarning: short sequence: 0 id NC_000932.1_sampled_62648_0\n",
        "-c:18: UserWarning: short sequence: 0 id NC_000932.1_sampled_59915_0\n"
       ]
      },
      {
       "output_type": "stream",
       "stream": "stderr",
       "text": [
        "-c:18: UserWarning: short sequence: 0 id NC_000932.1_sampled_56530_0\n",
        "-c:18: UserWarning: short sequence: 0 id NC_000932.1_sampled_2024_0\n"
       ]
      },
      {
       "output_type": "stream",
       "stream": "stderr",
       "text": [
        "-c:18: UserWarning: short sequence: 0 id NC_000932.1_sampled_81693_0\n",
        "-c:18: UserWarning: short sequence: 0 id NC_000932.1_sampled_75259_0\n",
        "-c:18: UserWarning: short sequence: 0 id NC_000932.1_sampled_34332_0\n",
        "-c:18: UserWarning: short sequence: 0 id NC_000932.1_sampled_110265_0\n"
       ]
      },
      {
       "output_type": "stream",
       "stream": "stderr",
       "text": [
        "-c:18: UserWarning: short sequence: 0 id NC_000932.1_sampled_121594_0\n",
        "-c:18: UserWarning: short sequence: 0 id NC_000932.1_sampled_118267_0\n"
       ]
      },
      {
       "output_type": "stream",
       "stream": "stderr",
       "text": [
        "-c:18: UserWarning: short sequence: 0 id NC_000932.1_sampled_6167_0\n",
        "-c:18: UserWarning: short sequence: 0 id NC_000932.1_sampled_73316_0\n",
        "-c:18: UserWarning: short sequence: 0 id NC_000932.1_sampled_103902_0\n",
        "-c:18: UserWarning: short sequence: 0 id NC_000932.1_sampled_2098_0\n",
        "-c:18: UserWarning: short sequence: 0 id NC_000932.1_sampled_22962_0\n",
        "-c:18: UserWarning: short sequence: 0 id NC_000932.1_sampled_6281_0\n",
        "-c:18: UserWarning: short sequence: 0 id NC_000932.1_sampled_29980_0\n"
       ]
      },
      {
       "output_type": "stream",
       "stream": "stderr",
       "text": [
        "-c:18: UserWarning: short sequence: 0 id NC_000932.1_sampled_61460_0\n",
        "-c:18: UserWarning: short sequence: 0 id NC_000932.1_sampled_13883_0\n"
       ]
      },
      {
       "output_type": "stream",
       "stream": "stderr",
       "text": [
        "-c:18: UserWarning: short sequence: 0 id NC_000932.1_sampled_48602_0\n",
        "-c:18: UserWarning: short sequence: 0 id NC_000932.1_sampled_24834_0\n",
        "-c:18: UserWarning: short sequence: 0 id NC_000932.1_sampled_18293_0\n",
        "-c:18: UserWarning: short sequence: 0 id NC_000932.1_sampled_62100_0\n"
       ]
      },
      {
       "output_type": "stream",
       "stream": "stderr",
       "text": [
        "-c:18: UserWarning: short sequence: 0 id NC_000932.1_sampled_112877_0\n",
        "-c:18: UserWarning: short sequence: 0 id NC_000932.1_sampled_144963_0\n",
        "-c:18: UserWarning: short sequence: 0 id NC_000932.1_sampled_28034_0\n",
        "-c:18: UserWarning: short sequence: 0 id NC_000932.1_sampled_142515_0\n",
        "-c:18: UserWarning: short sequence: 0 id NC_000932.1_sampled_151566_0\n"
       ]
      },
      {
       "output_type": "stream",
       "stream": "stderr",
       "text": [
        "-c:18: UserWarning: short sequence: 0 id NC_000932.1_sampled_79724_0\n",
        "-c:18: UserWarning: short sequence: 0 id NC_000932.1_sampled_52586_0\n",
        "-c:18: UserWarning: short sequence: 0 id NC_000932.1_sampled_22540_0\n",
        "-c:18: UserWarning: short sequence: 0 id NC_000932.1_sampled_50361_0\n"
       ]
      },
      {
       "output_type": "stream",
       "stream": "stderr",
       "text": [
        "-c:18: UserWarning: short sequence: 0 id NC_000932.1_sampled_128357_0\n",
        "-c:18: UserWarning: short sequence: 0 id NC_000932.1_sampled_145496_0\n",
        "-c:18: UserWarning: short sequence: 0 id NC_000932.1_sampled_26364_0\n",
        "-c:18: UserWarning: short sequence: 0 id NC_000932.1_sampled_119006_0\n"
       ]
      },
      {
       "output_type": "stream",
       "stream": "stderr",
       "text": [
        "-c:18: UserWarning: short sequence: 0 id NC_000932.1_sampled_110264_0\n",
        "-c:18: UserWarning: short sequence: 0 id NC_000932.1_sampled_58655_0\n",
        "-c:18: UserWarning: short sequence: 0 id NC_000932.1_sampled_53858_0\n",
        "-c:18: UserWarning: short sequence: 0 id NC_000932.1_sampled_44886_0\n",
        "-c:18: UserWarning: short sequence: 0 id NC_000932.1_sampled_114766_0\n"
       ]
      },
      {
       "output_type": "stream",
       "stream": "stderr",
       "text": [
        "-c:18: UserWarning: short sequence: 0 id NC_000932.1_sampled_65354_0\n",
        "-c:18: UserWarning: short sequence: 0 id NC_000932.1_sampled_80022_0\n",
        "-c:18: UserWarning: short sequence: 0 id NC_000932.1_sampled_149893_0\n",
        "-c:18: UserWarning: short sequence: 0 id NC_000932.1_sampled_39189_0\n"
       ]
      },
      {
       "output_type": "stream",
       "stream": "stderr",
       "text": [
        "-c:18: UserWarning: short sequence: 0 id NC_000932.1_sampled_88248_0\n",
        "-c:18: UserWarning: short sequence: 0 id NC_000932.1_sampled_73533_0\n",
        "-c:18: UserWarning: short sequence: 0 id NC_000932.1_sampled_134587_0\n",
        "-c:18: UserWarning: short sequence: 0 id NC_000932.1_sampled_111772_0\n",
        "-c:18: UserWarning: short sequence: 0 id NC_000932.1_sampled_120940_0\n"
       ]
      },
      {
       "output_type": "stream",
       "stream": "stdout",
       "text": [
        "\n",
        "wrote out 700000 sequences to subsample_A.thal_0100000_draws.fasta"
       ]
      },
      {
       "output_type": "stream",
       "stream": "stdout",
       "text": [
        "\n"
       ]
      }
     ],
     "prompt_number": 11
    },
    {
     "cell_type": "code",
     "collapsed": false,
     "input": [
      "# repeat for Arabidopsis lyrata \n",
      "\n",
      "genomic_data = \"/media/joe/BiSlDi/genomes/Arabidopsis_lyrata_petraea/Arabidopsis_lytata_ADBK01.1.fsa_nt\"\n",
      "\n",
      "make_subsample(genome,'A.lrya',10,)\n",
      "make_subsample(genome,'A.lyra',100)\n",
      "make_subsample(genome,'A.lyra',1000)\n",
      "make_subsample(genome,'A.lyra',10000)\n",
      "make_subsample(genome,'A.lyra',100000)\n"
     ],
     "language": "python",
     "metadata": {},
     "outputs": [
      {
       "output_type": "stream",
       "stream": "stdout",
       "text": [
        "making 10 draws, output to subsample_A.lrya_0000010_draws.fasta\n",
        "wrote out 70 sequences to subsample_A.lrya_0000010_draws.fasta"
       ]
      },
      {
       "output_type": "stream",
       "stream": "stdout",
       "text": [
        "\n",
        "making 100 draws, output to subsample_A.lyra_0000100_draws.fasta\n",
        "wrote out 700 sequences to subsample_A.lyra_0000100_draws.fasta"
       ]
      },
      {
       "output_type": "stream",
       "stream": "stdout",
       "text": [
        "\n",
        "making 1000 draws, output to subsample_A.lyra_0001000_draws.fasta\n",
        "wrote out 7000 sequences to subsample_A.lyra_0001000_draws.fasta"
       ]
      },
      {
       "output_type": "stream",
       "stream": "stdout",
       "text": [
        "\n",
        "making 10000 draws, output to subsample_A.lyra_0010000_draws.fasta\n",
        "wrote out 70000 sequences to subsample_A.lyra_0010000_draws.fasta"
       ]
      },
      {
       "output_type": "stream",
       "stream": "stdout",
       "text": [
        "\n",
        "making 100000 draws, output to subsample_A.lyra_0100000_draws.fasta"
       ]
      },
      {
       "output_type": "stream",
       "stream": "stdout",
       "text": [
        "\n",
        "wrote out 700000 sequences to subsample_A.lyra_0100000_draws.fasta"
       ]
      },
      {
       "output_type": "stream",
       "stream": "stdout",
       "text": [
        "\n"
       ]
      }
     ],
     "prompt_number": 4
    },
    {
     "cell_type": "code",
     "collapsed": false,
     "input": [
      "# then make a blast DB for each subsampled file, e.g.\n",
      "#\n",
      "# if: \n",
      "#-rw-rw-r-- 1 joe joe  102K May 18 14:56 subsample_A.thal_0000010_draws.fasta\n",
      "#\n",
      "# then run:\n",
      "# makeblastdb -dbtype nucl -out A.thal.subsample_10 -title 'subsampled A.thaliana genome, 10 draws per chromosome' -in subsample_A.thal_0000010_draws.fasta \n",
      "#\n",
      "# to give:\n",
      "#-rw-rw-r-- 1 joe joe   11K May 18 15:02 A.thal.subsample_10.nhr\n",
      "#-rw-rw-r-- 1 joe joe   964 May 18 15:02 A.thal.subsample_10.nin\n",
      "#-rw-rw-r-- 1 joe joe   24K May 18 15:02 A.thal.subsample_10.nsq\n",
      "#\n",
      "# (the database will be referenced by 'A.thal.subsample_10' in blastn etc.)\n",
      "#\n",
      "# to automate this run:\n",
      "\n",
      "#for i in *fasta;\n",
      "#do\n",
      "#echo $i; \n",
      "#makeblastdb -dbtype nucl -out $i -title '$i: subsampled A.thaliana genome, 10 draws per chromosome' -in $i;\n",
      "#done\n",
      "\n",
      "# to crunch through:\n",
      "makeblastdb -dbtype nucl -out A.thal.subsample_10E1 -title 'subsampled A.thaliana genome, 10E1 draws per chromosome' -in subsample_A.thal_0000010_draws.fasta \n",
      "makeblastdb -dbtype nucl -out A.thal.subsample_10E2 -title 'subsampled A.thaliana genome, 10E2 draws per chromosome' -in subsample_A.thal_0000100_draws.fasta \n",
      "makeblastdb -dbtype nucl -out A.thal.subsample_10E3 -title 'subsampled A.thaliana genome, 10E3 draws per chromosome' -in subsample_A.thal_0001000_draws.fasta \n",
      "makeblastdb -dbtype nucl -out A.thal.subsample_10E4 -title 'subsampled A.thaliana genome, 10E4 draws per chromosome' -in subsample_A.thal_0010000_draws.fasta \n",
      "makeblastdb -dbtype nucl -out A.thal.subsample_10E5 -title 'subsampled A.thaliana genome, 10E5 draws per chromosome' -in subsample_A.thal_0100000_draws.fasta \n"
     ],
     "language": "python",
     "metadata": {},
     "outputs": []
    }
   ],
   "metadata": {}
  }
 ]
}