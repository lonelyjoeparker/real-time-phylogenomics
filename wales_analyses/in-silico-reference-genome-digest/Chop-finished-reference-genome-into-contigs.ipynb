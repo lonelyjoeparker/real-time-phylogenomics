{
 "metadata": {
  "name": "",
  "signature": "sha256:6f3dd44f4fd466ee84170db9e5f4ec41b642917bd0b3d33cf070964b69d08c30"
 },
 "nbformat": 3,
 "nbformat_minor": 0,
 "worksheets": [
  {
   "cells": [
    {
     "cell_type": "code",
     "collapsed": false,
     "input": [
      "from Bio import SeqIO\n",
      "from Bio.Seq import Seq\n",
      "from Bio.Alphabet import generic_dna\n",
      "from numpy import random, mean, median\n",
      "from math import floor\n",
      "import warnings\n",
      "import matplotlib.pyplot as plt\n",
      "import numpy as np\n",
      "\n",
      "screwy_sample = SeqIO.parse('/home/joe/Documents/all_work/programming/repo-git/real-time-phylogenomics/wales_analyses/in-silico-reference-genome-digest/subsample_A.lyra_0001000_draws.fasta','fasta')\n",
      "thal_genome = SeqIO.parse(\"/media/joe/BiSlDi/genomes/Arabidopsis_thaliana/arabidopsis_thaliana_GCF_000001735.3_TAIR10_genomic.fna\",'fasta')\n",
      "alyr_genomic_data = SeqIO.parse(\"/media/joe/BiSlDi/genomes/Arabidopsis_lyrata_petraea/Arabidopsis_lytata_ADBK01.1.fsa_nt\",'fasta')\n",
      "\n",
      "\n",
      "seq_lens = []\n",
      "\n",
      "for seq in screwy_sample:\n",
      "    seq_lens.append(len(seq))\n",
      "    pass\n",
      "\n",
      "\n",
      "seq_lens_t = []\n",
      "\n",
      "for seq in thal_genome:\n",
      "    seq_lens_t.append(len(seq))\n",
      "    pass\n",
      "\n",
      "\n",
      "seq_lens_l = []\n",
      "\n",
      "for seq in alyr_genomic_data:\n",
      "    seq_lens_l.append(len(seq))\n",
      "    pass\n"
     ],
     "language": "python",
     "metadata": {},
     "outputs": [],
     "prompt_number": 1
    },
    {
     "cell_type": "code",
     "collapsed": false,
     "input": [
      "thal_genome = SeqIO.parse(\"/media/joe/BiSlDi/genomes/Arabidopsis_thaliana/arabidopsis_thaliana_GCF_000001735.3_TAIR10_genomic.fna\",'fasta')\n",
      "for chromosome in thal_genome:\n",
      "    print(chromosome.id, str(len(chromosome)))"
     ],
     "language": "python",
     "metadata": {},
     "outputs": [
      {
       "output_type": "stream",
       "stream": "stdout",
       "text": [
        "('NC_003070.9', '30427671')\n",
        "('NC_003071.7', '19698289')"
       ]
      },
      {
       "output_type": "stream",
       "stream": "stdout",
       "text": [
        "\n",
        "('NC_003074.8', '23459830')"
       ]
      },
      {
       "output_type": "stream",
       "stream": "stdout",
       "text": [
        "\n",
        "('NC_003075.7', '18585056')"
       ]
      },
      {
       "output_type": "stream",
       "stream": "stdout",
       "text": [
        "\n",
        "('NC_003076.8', '26975502')"
       ]
      },
      {
       "output_type": "stream",
       "stream": "stdout",
       "text": [
        "\n",
        "('NC_001284.2', '366924')\n",
        "('NC_000932.1', '154478')\n"
       ]
      }
     ],
     "prompt_number": 2
    },
    {
     "cell_type": "code",
     "collapsed": false,
     "input": [
      "# divide a sequence up \n",
      "\n",
      "all_contigs_bin = []\n",
      "all_contigs_lengths = []\n",
      "\n",
      "for scaffold in SeqIO.parse(\"/media/joe/BiSlDi/genomes/Arabidopsis_thaliana/arabidopsis_thaliana_GCF_000001735.3_TAIR10_genomic.fna\",'fasta'):\n",
      "    # chop up this scaffold\n",
      "    contigs_lengths = []\n",
      "    start_pos=0\n",
      "    total_length = len(scaffold)\n",
      "    remaining_length = total_length - start_pos\n",
      "    # we'll propose new length pieces, exponentially distributed, from the 5' until no scaffold left\n",
      "    while remaining_length > 0:\n",
      "        valid_length = False\n",
      "        while not valid_length:\n",
      "            new_length = int(random.exponential(35000))\n",
      "            valid_length = (new_length>300)\n",
      "        end_pos = start_pos + new_length\n",
      "        if end_pos < total_length:\n",
      "            new_piece=scaffold[start_pos:end_pos]\n",
      "            start_pos = end_pos+1\n",
      "            remaining_length = total_length - start_pos\n",
      "            contigs_lengths.append(len(new_piece))\n",
      "            all_contigs_lengths.append(len(new_piece))\n",
      "            all_contigs_bin.append(new_piece)\n",
      "        else:\n",
      "            new_piece=scaffold[start_pos:]\n",
      "            contigs_lengths.append(len(new_piece))\n",
      "            all_contigs_lengths.append(len(new_piece))\n",
      "            all_contigs_bin.append(new_piece)\n",
      "            print('last piece ',str(len(new_piece)))\n",
      "            remaining_length=0 # run out of sequence\n",
      "    \n",
      "    print(scaffold.id,' mean ',str(mean(contigs_lengths)),' N ',str(len(contigs_lengths)))\n",
      "print('overall mean ',str(mean(all_contigs_lengths)),' N ',str(len(all_contigs_lengths)))\n",
      "\n",
      "SeqIO.write(all_contigs_bin,'A.thal.downsample_reference.fa','fasta')\n"
     ],
     "language": "python",
     "metadata": {},
     "outputs": [
      {
       "output_type": "stream",
       "stream": "stdout",
       "text": [
        "('last piece ', '22783')\n",
        "('NC_003070.9', ' mean ', '34575.9', ' N ', '880')\n",
        "('last piece ', '11167')"
       ]
      },
      {
       "output_type": "stream",
       "stream": "stdout",
       "text": [
        "\n",
        "('NC_003071.7', ' mean ', '37025.8609023', ' N ', '532')\n",
        "('last piece ', '44691')"
       ]
      },
      {
       "output_type": "stream",
       "stream": "stdout",
       "text": [
        "\n",
        "('NC_003074.8', ' mean ', '35980.3358896', ' N ', '652')\n",
        "('last piece ', '10373')"
       ]
      },
      {
       "output_type": "stream",
       "stream": "stdout",
       "text": [
        "\n",
        "('NC_003075.7', ' mean ', '33245.9713775', ' N ', '559')\n",
        "('last piece ', '21745')"
       ]
      },
      {
       "output_type": "stream",
       "stream": "stdout",
       "text": [
        "\n",
        "('NC_003076.8', ' mean ', '34627.3735558', ' N ', '779')\n",
        "('last piece ', '11314')\n",
        "('NC_001284.2', ' mean ', '40768.4444444', ' N ', '9')\n",
        "('last piece ', '5332')\n",
        "('NC_000932.1', ' mean ', '25745.5', ' N ', '6')\n",
        "('overall mean ', '35020.2926544', ' N ', '3417')\n"
       ]
      },
      {
       "metadata": {},
       "output_type": "pyout",
       "prompt_number": 3,
       "text": [
        "3417"
       ]
      }
     ],
     "prompt_number": 3
    }
   ],
   "metadata": {}
  }
 ]
}